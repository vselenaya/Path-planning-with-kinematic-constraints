{
 "cells": [
  {
   "cell_type": "markdown",
   "id": "9fb42ee8-a666-4033-9068-b4bd9346174e",
   "metadata": {},
   "source": [
    "Данный файл предназначен для отрисовки различных траекторий, которые нашли алгоритмы COST и TYPES в реализации на C++. Были проведены несколько тестов: в рамках одного теста на одной и той же карте с одинаковыми стартом и финишом искали траектории сначала COST, затем TYPES. Эти результаты находятся в папке `cpp-effective-solution/res` и называны `test<i>-COST.txt` и `test<i>-TYPES.txt` соответственно, где `<i>` -- номер теста.\n",
    "\n",
    "Кажый файл содержит найденный алгоритмом путь. В случае COST (базовое решение, поиск на state lattice) путём будет послеовательность\n",
    "дискретных состояний (далее между ними однозначно ищутся примитивы, которые образуют траекторию). В случае TYPES (альтернативно решение\n",
    "со склеиванием, поиск на графе типов) путём в общем смысле будет последовательность типовых ячеек (= вершины графа типов), чьи проекции образуют коллизионный след траектории (так было в коде на Питоне в папке `Alternative solution`). Однако на пратике можно сильно уменьшить расходуемую память и вместо всех ячеек пути хранить только целевые (в которых заканчивается хоть какой-то примитив) -> именно такие ячейки\n",
    "сохранены в файле с путём для алгоритма TYPES. Данный код покажет пример, как только по таким ячейкам восстановить всю траекторию."
   ]
  },
  {
   "cell_type": "code",
   "execution_count": null,
   "id": "9fe183e7-0e89-484f-9432-cd5f8a2c5b0e",
   "metadata": {},
   "outputs": [],
   "source": []
  },
  {
   "cell_type": "code",
   "execution_count": 8,
   "id": "3c26aef0-5fde-4934-b840-65b2dc8b79b1",
   "metadata": {},
   "outputs": [],
   "source": [
    "import sys\n",
    "import math\n",
    "import time\n",
    "from typing import List, Tuple, Optional\n",
    "from typing_extensions import Self\n",
    "sys.path.append(\"../../common/\") \n",
    "from KC_structs import *\n",
    "from KC_graphics import *\n",
    "from KC_searching import *"
   ]
  },
  {
   "cell_type": "code",
   "execution_count": 9,
   "id": "934c9983-09d5-4ff3-9d3f-2123a6496808",
   "metadata": {},
   "outputs": [],
   "source": [
    "# загружаем примитивы и типы, которые использовались для поиска траектории:\n",
    "theta_16 = Theta()  # фиксируем дискретизацию\n",
    "control_set = ControlSet(theta_16).load_primitives(\"../cpp-effective-solution/data/main_control_set.txt\")\n",
    "types_set = TypeInfo(control_set).load_types(\"../cpp-effective-solution/data/main_types.txt\")\n",
    "\n",
    "# считываем карту:\n",
    "with open(\"../cpp-effective-solution/maps/Milan_1_256.map\", \"r\") as f:\n",
    "    map_str = f.read()\n",
    "task_map = Map().convert_string_to_cells(map_str, obs=True)\n",
    "\n",
    "R, A = 0, 0  # фиксируем параметры, для которых проводились тесты (все тесты были в точности до целевого состояния, без ошибок по углу/координатам)"
   ]
  },
  {
   "cell_type": "markdown",
   "id": "21035a84-2453-49f7-a205-bdfea7555e47",
   "metadata": {},
   "source": [
    "### Рисуем результат COST:"
   ]
  },
  {
   "cell_type": "code",
   "execution_count": 10,
   "id": "1df803a3-4d55-4683-98ca-1278b7487eea",
   "metadata": {},
   "outputs": [],
   "source": [
    "def result_COST(i: int):  # i - номер теста\n",
    "    \n",
    "    # считываем всё, что нужно, из файла:\n",
    "    with open(f\"../cpp-effective-solution/res/test{i}-COST.txt\", \"r\") as f:\n",
    "        start = DiscreteState(*map(int, f.readline().split()[-3:]))  # считываем из файла старт и финиш\n",
    "        finish = DiscreteState(*map(int, f.readline().split()[-3:]))\n",
    "        assert(f.readline().split()[-1] == \"COST\")  # проверяем алгоритм\n",
    "        cost = float(f.readline().split()[-1])  # читаем стоимость пути\n",
    "        f.readline()  # пропускаем строку\n",
    "        \n",
    "        path = []\n",
    "        while 1:\n",
    "            str = f.readline()\n",
    "            if str == \"\":\n",
    "                break\n",
    "            path.append(DiscreteState(*map(int, str.split())))  # добавляем считанные дискртеные состояния на пути (* позволяет распаковать итератор map на отдельные числа, которые подставляются в качестве переменных в DiscreteState)\n",
    "    path.reverse()  # переворачиваем путь, чтобы он от начала к концу шел\n",
    "\n",
    "    # рисуем карту, старт и финиш\n",
    "    ax = draw_task_map(task_map, start, finish, dpi=400, scale=3, A=A, R=R, theta=theta_16)  # увеличиваем масштаб и dpi, чтобы картинка была больше и чётче изображение рисовала\n",
    "    \n",
    "    # получаем примитивы между дискретными состояниями и рисуем их -> получаем траекторию:\n",
    "    col = 'g'\n",
    "    for k in range(len(path)-1):\n",
    "        prim = control_set.get_prim_between_states(path[k], path[k+1])  # очередной примитив между соседними вершинами на пути\n",
    "        col = 'r' if col == 'g' else 'g'  # чередуем цвета: зелёный g и красный r\n",
    "        ax.plot(prim.x_coords, prim.y_coords, col)  # рисуем его\n",
    "    \n",
    "    plt.savefig(f\"test{i}-COST__cost={cost:.2f}.png\", transparent=False, facecolor='white')  # сохраняем рисунок в файл\n",
    "    plt.clf()  # удаляем его, чтобы тут не отображался (так как слишком большой)"
   ]
  },
  {
   "cell_type": "markdown",
   "id": "c0d207fd-2fca-4051-abfa-bf839e2fc0cd",
   "metadata": {},
   "source": [
    "### Рисуем результат TYPES:"
   ]
  },
  {
   "cell_type": "code",
   "execution_count": 11,
   "id": "ae3f3165-7979-4acd-8fb6-90b3fab6a9e1",
   "metadata": {},
   "outputs": [],
   "source": [
    "def check_prim(prim: Primitive, task_map: Map) -> bool:\n",
    "    \"\"\"\n",
    "    Функция проверяет, что примитив корректно идёт по карте (не задевает препятсвтия).\n",
    "    \"\"\"\n",
    "\n",
    "    for i, j in zip(prim.collision_in_i, prim.collision_in_j):\n",
    "        if not (task_map.in_bounds(i,j) and task_map.traversable(i,j)):\n",
    "            return 0\n",
    "    return 1\n",
    "\n",
    "\n",
    "def dfs(start_theta: int, path: List[TypeMesh], final_theta: int) -> List[Primitive]:\n",
    "    \"\"\"\n",
    "    Данная функция должна по path (набору целевых типовых ячеек) восстановить траекторию. Траектория должна \n",
    "    начинаться под дискретным углом start_theta и заканчиваться в final_theta. \n",
    "    Функция вернёт набор примитивов (уже сдвинутых параллельным перенососм в нужные координаты), которые\n",
    "    образуют цепочку траектории.\n",
    "    \"\"\"\n",
    "\n",
    "    assert (len(path) > 0)\n",
    "    \n",
    "    if len(path) == 1:  # если осталась одна ячейка, путь уже восстановлен\n",
    "        if theta_16.num_dist(start_theta, final_theta) <= A: \n",
    "            return []  # если корректный путь восстановили (по углу), то возвращаем пустой список \n",
    "        else:\n",
    "            return None  # иначе путь не восстановлен\n",
    "\n",
    "    i0, j0 = path[0].i, path[0].j  # берём первые две целевые типовые ячейки\n",
    "    i1, j1 = path[1].i, path[1].j\n",
    "    assert (start_theta in types_set.goal_theta_by_type[path[0].type])  # проверяем, что в path[0] могут начинаться примитивы под углом start_theta\n",
    "    assert (types_set.goal_theta_by_type[path[1].type] is not None)  # проверяем, что path[1] - целевая\n",
    "    \n",
    "    for theta in types_set.goal_theta_by_type[path[1].type]:  # перебираем углы, в которых могут заканчиваться прмиитивы в типово ячейке path[1]\n",
    "        try:\n",
    "            prim = control_set.get_prim_between_states(DiscreteState(i0,j0,start_theta), DiscreteState(i1,j1,theta))  # ищем примитив между нужными состояниями\n",
    "        except:\n",
    "            continue  # если было исключение (Exception), значит нет такого примитива -> перебираем дальше\n",
    "\n",
    "        if not check_prim(prim, task_map):  # проверяем, что примитив корректный\n",
    "            continue\n",
    "            \n",
    "        res = dfs(theta, path[1:], final_theta)  # иначе рекурсивно ищем дальше\n",
    "        if res is not None:\n",
    "            return [prim] + res  # если нашли дальше, то наращиваем на примитив и возвращаем\n",
    "\n",
    "    for i in range(2, len(path)):  # не в каждой целевой ячейке обязан кончаться примитив на пути, так как в целевых ячйках могут продолжать какие-то другие примитивы... поэтому стоит так же пропустить некоторые ячейки и искать дальше\n",
    "        res = dfs(start_theta, [path[0]] + path[i:], final_theta)  # пропускаем 1-ую ячейку и ищем далее\n",
    "        if res is not None:\n",
    "            return res\n",
    "            \n",
    "    return None  # если перебирали все примитивы и не нашли -> путь не существует (что-то некорректное дали)"
   ]
  },
  {
   "cell_type": "code",
   "execution_count": 12,
   "id": "55bdad0c-8554-4d01-8313-dd7c50345f9c",
   "metadata": {},
   "outputs": [],
   "source": [
    "def result_TYPES(i: int):  # i - номер теста\n",
    "\n",
    "    # считываем всё, что нужно, из файла:\n",
    "    with open(f\"../cpp-effective-solution/res/test{i}-TYPES.txt\", \"r\") as f:\n",
    "        start = DiscreteState(*map(int, f.readline().split()[-3:]))\n",
    "        finish = DiscreteState(*map(int, f.readline().split()[-3:]))\n",
    "        assert(f.readline().split()[-1] == \"TYPES\")\n",
    "        cost = float(f.readline().split()[-1])\n",
    "        f.readline()  # пропускаем строку\n",
    "        \n",
    "        path = []\n",
    "        while 1:\n",
    "            str = f.readline()\n",
    "            if str == \"\":\n",
    "                break\n",
    "            path.append(TypeMesh(*map(int, str.split())))  # добавляем считанные целевые типовые ячейки на пути\n",
    "    path.reverse()  # переворачиваем путь\n",
    "\n",
    "    \n",
    "    result = dfs(start.theta, path, finish.theta)  # восстанавливаем траекторию\n",
    "    assert result is not None, \"Траектория не восстановилась! Где-то ошибка...\"\n",
    "\n",
    "    # рисуем карту, старт и финиш\n",
    "    ax = draw_task_map(task_map, start, finish, dpi=400, scale=3, A=A, R=R, theta=theta_16)  \n",
    "    \n",
    "    # рисуем найденные примитивы\n",
    "    col = 'g'\n",
    "    for prim in result:\n",
    "        col = 'r' if col == 'g' else 'g'  # чередуем цвета: зелёный g и красный r\n",
    "        ax.plot(prim.x_coords, prim.y_coords, col) \n",
    "    \n",
    "    for tm in path:  # также рисуем \"опорные\" целевые ячейки, по которым восстановлена траектория\n",
    "        ax.add_patch(plt.Rectangle((tm.j-0.5, tm.i-0.5), 1, 1, color='purple', alpha=0.25))\n",
    "    \n",
    "    plt.savefig(f\"test{i}-TYPES__cost={cost:.2f}.png\", transparent=False, facecolor='white')  # сохраняем рисунок в файл\n",
    "    plt.clf() \n",
    "    "
   ]
  },
  {
   "cell_type": "markdown",
   "id": "fa2e638f-74ab-4998-9435-1ec479066ae5",
   "metadata": {},
   "source": [
    "### Запускаем отрисовку"
   ]
  },
  {
   "cell_type": "code",
   "execution_count": 13,
   "id": "7c8ff2bd-18bb-410d-a1d4-49ede15e7fd2",
   "metadata": {},
   "outputs": [
    {
     "data": {
      "text/plain": [
       "<Figure size 12000x12000 with 0 Axes>"
      ]
     },
     "metadata": {},
     "output_type": "display_data"
    },
    {
     "data": {
      "text/plain": [
       "<Figure size 12000x12000 with 0 Axes>"
      ]
     },
     "metadata": {},
     "output_type": "display_data"
    },
    {
     "data": {
      "text/plain": [
       "<Figure size 12000x12000 with 0 Axes>"
      ]
     },
     "metadata": {},
     "output_type": "display_data"
    },
    {
     "data": {
      "text/plain": [
       "<Figure size 12000x12000 with 0 Axes>"
      ]
     },
     "metadata": {},
     "output_type": "display_data"
    },
    {
     "data": {
      "text/plain": [
       "<Figure size 12000x12000 with 0 Axes>"
      ]
     },
     "metadata": {},
     "output_type": "display_data"
    },
    {
     "data": {
      "text/plain": [
       "<Figure size 12000x12000 with 0 Axes>"
      ]
     },
     "metadata": {},
     "output_type": "display_data"
    },
    {
     "data": {
      "text/plain": [
       "<Figure size 12000x12000 with 0 Axes>"
      ]
     },
     "metadata": {},
     "output_type": "display_data"
    },
    {
     "data": {
      "text/plain": [
       "<Figure size 12000x12000 with 0 Axes>"
      ]
     },
     "metadata": {},
     "output_type": "display_data"
    },
    {
     "data": {
      "text/plain": [
       "<Figure size 12000x12000 with 0 Axes>"
      ]
     },
     "metadata": {},
     "output_type": "display_data"
    },
    {
     "data": {
      "text/plain": [
       "<Figure size 12000x12000 with 0 Axes>"
      ]
     },
     "metadata": {},
     "output_type": "display_data"
    },
    {
     "data": {
      "text/plain": [
       "<Figure size 12000x12000 with 0 Axes>"
      ]
     },
     "metadata": {},
     "output_type": "display_data"
    },
    {
     "data": {
      "text/plain": [
       "<Figure size 12000x12000 with 0 Axes>"
      ]
     },
     "metadata": {},
     "output_type": "display_data"
    },
    {
     "data": {
      "text/plain": [
       "<Figure size 12000x12000 with 0 Axes>"
      ]
     },
     "metadata": {},
     "output_type": "display_data"
    },
    {
     "data": {
      "text/plain": [
       "<Figure size 12000x12000 with 0 Axes>"
      ]
     },
     "metadata": {},
     "output_type": "display_data"
    }
   ],
   "source": [
    "for i in range(1, 8):\n",
    "    result_TYPES(i)\n",
    "    result_COST(i)"
   ]
  }
 ],
 "metadata": {
  "kernelspec": {
   "display_name": "Python 3 (ipykernel)",
   "language": "python",
   "name": "python3"
  },
  "language_info": {
   "codemirror_mode": {
    "name": "ipython",
    "version": 3
   },
   "file_extension": ".py",
   "mimetype": "text/x-python",
   "name": "python",
   "nbconvert_exporter": "python",
   "pygments_lexer": "ipython3",
   "version": "3.10.4"
  }
 },
 "nbformat": 4,
 "nbformat_minor": 5
}
